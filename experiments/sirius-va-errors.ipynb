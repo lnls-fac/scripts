{
 "metadata": {
  "name": ""
 },
 "nbformat": 3,
 "nbformat_minor": 0,
 "worksheets": [
  {
   "cells": [
    {
     "cell_type": "code",
     "collapsed": false,
     "input": [
      "import sirius\n",
      "import numpy\n",
      "import pyaccel\n",
      "import matplotlib.pyplot as plt\n",
      "\n",
      "PREFIX = 'XVA-'"
     ],
     "language": "python",
     "metadata": {},
     "outputs": [],
     "prompt_number": 151
    },
    {
     "cell_type": "code",
     "collapsed": false,
     "input": [
      "si = sirius.si.create_accelerator()\n",
      "pyaccel.tracking.set6dtracking(si)\n",
      "print(si)"
     ],
     "language": "python",
     "metadata": {},
     "outputs": [
      {
       "output_type": "stream",
       "stream": "stdout",
       "text": [
        "energy         : 3000000000.0 eV\n",
        "harmonic_number: 864\n",
        "cavity_on      : True\n",
        "radiation_on   : True\n",
        "vchamber_on    : False\n",
        "lattice size   : 3704\n",
        "lattice length : 518.3959999999935 m\n"
       ]
      }
     ],
     "prompt_number": 152
    },
    {
     "cell_type": "code",
     "collapsed": false,
     "input": [
      "r, *_ = pyaccel.tracking.ringpass(si, nr_turns=1000, particles=[0.0,0,0,0,0,0], turn_by_turn=False)\n",
      "print(r)"
     ],
     "language": "python",
     "metadata": {},
     "outputs": [
      {
       "output_type": "stream",
       "stream": "stdout",
       "text": [
        "[ -7.24139464e-08   4.22229662e-09   0.00000000e+00   0.00000000e+00\n",
        "  -4.92032551e-04  -3.17445506e-02]\n"
       ]
      }
     ],
     "prompt_number": 156
    },
    {
     "cell_type": "code",
     "collapsed": false,
     "input": [
      "help(pyaccel.tracking.ringpass)"
     ],
     "language": "python",
     "metadata": {},
     "outputs": [
      {
       "output_type": "stream",
       "stream": "stdout",
       "text": [
        "Help on function ringpass in module pyaccel.tracking:\n",
        "\n",
        "ringpass(accelerator, particles, nr_turns=1, turn_by_turn=None, element_offset=0)\n",
        "    Track particle(s) along a ring.\n",
        "    \n",
        "    Accepts one or multiple particles initial positions. In the latter case,\n",
        "    a list of particles or a numpy 2D array (with particle as firts index)\n",
        "    should be given as input; tracked particles positions at the end of\n",
        "    the ring are output variables, as well as information on whether particles\n",
        "    have been lost along the tracking and where they were lost.\n",
        "    \n",
        "    Keyword arguments: (accelerator, particles, nr_turns,\n",
        "                        turn_by_turn, elment_offset)\n",
        "    \n",
        "    accelerator    -- Accelerator object\n",
        "    particles      -- initial 6D particle(s) position(s).\n",
        "                      Few examples\n",
        "                        ex.1: particles = [rx,px,ry,py,de,dl]\n",
        "                        ex.2: particles = [[0.001,0,0,0,0,0],[0.002,0,0,0,0,0]]\n",
        "                        ex.3: particles = numpy.zeros((Np,6))\n",
        "    nr_turns       -- number of turns around ring to track each particle.\n",
        "    turn_by_turn   -- parameter indicating what turn by turn positions are to\n",
        "                      be returned. If None ringpass returns particles\n",
        "                      positions only at the end of the ring, at the last turn.\n",
        "                      If turn_by_turn is 'closed' ringpass returns positions\n",
        "                      at the end of the ring for every turn. If it is 'open'\n",
        "                      than positions are returned at the beginning of every\n",
        "                      turn.\n",
        "    \n",
        "    element_offset -- element offset (default 0) for tracking. tracking will\n",
        "                      start at the element with index 'element_offset'\n",
        "    \n",
        "    Returns: (particles_out, lost_flag, lost_turn, lost_element, lost_plane)\n",
        "    \n",
        "    particles_out -- 6D position for each particle at end of ring. The structure\n",
        "                     of 'particles_out' depends on inputs 'particles' and\n",
        "                     'turn_by_turn'. If 'turn_by_turn' is None then only\n",
        "                     tracked positions at the end 'nr_turns' are returned. There\n",
        "                     are still two possibilities for the structure of\n",
        "                     particles_out, depending on 'particles':\n",
        "    \n",
        "                    (1) if 'particles' is a single particle defined as a python\n",
        "                        list of coordinates, 'particles_out' will also be a\n",
        "                        simple list:\n",
        "                        ex.:particles = [rx1,px1,ry1,py1,de1,dl1]\n",
        "                            turn_by_turn = False\n",
        "                            particles_out=numpy.array([rx2,px2,ry2,py2,de2,dl2])\n",
        "    \n",
        "                    (2) if 'particles' is either a python list of particles or a\n",
        "                        numpy matrix then 'particles_out' will be a matrix\n",
        "                        (numpy array of arrays) whose first index selects the\n",
        "                        coordinate rx, px, ry, py, de or dl, in this order, and\n",
        "                        the second index selects a particular particle.\n",
        "                        ex.: particles = [[rx1,px1,ry1,py1,de1,dl1],\n",
        "                                          [rx2,px2,ry2,py2,de2,dl2]]\n",
        "                             turn_by_turn = False\n",
        "                             particles_out = numpy.array(\n",
        "                                 [ [rx3,px3,ry3,py3,de3,dl3],\n",
        "                                   [rx4,px4,ry4,py4,de4,dl4]\n",
        "                                 ])\n",
        "    \n",
        "                     'turn_by_turn' can also be either 'close' or 'open'. In\n",
        "                     either case 'particles_out' will have tracked positions at\n",
        "                     the entrances of the elements. The difference is that for\n",
        "                     'closed' it will have an additional tracked position at the\n",
        "                     exit of the last element, thus closing the data, in case\n",
        "                     the line is a ring. The format of 'particles_out' is ...\n",
        "    \n",
        "                    (3) a numpy matrix, when 'particles' is a single particle\n",
        "                        defined as a python list. The first index of\n",
        "                        'particles_out' runs through coordinates rx, px, ry, py,\n",
        "                        de or dl and the second index runs through the turn\n",
        "                        number\n",
        "    \n",
        "                    (4) a numpy rank-3 tensor, when 'particles' is the initial\n",
        "                        positions of many particles. The first index now runs\n",
        "                        through particles, the second through coordinates and\n",
        "                        the third through turn number.\n",
        "    \n",
        "    lost_flag    -- a general flag indicating whether there has been particle\n",
        "                    loss.\n",
        "    lost_turn    -- list of turn index where each particle was lost.\n",
        "    lost_element -- list of element index where each particle was lost\n",
        "                    If the particle survived the tracking through the ring its\n",
        "                    corresponding element in this list is set to None. When\n",
        "                    there is only one particle defined as a python list (not as\n",
        "                    a numpy matrix with one column) 'lost_element' returns a\n",
        "                    single number.\n",
        "    lost_plane   -- list of strings representing on what plane each particle\n",
        "                    was lost while being tracked. If the particle is not lost\n",
        "                    then its corresponding element in the list is set to None.\n",
        "                    If it is lost in the horizontal or vertical plane it is set\n",
        "                    to string 'x' or 'y', correspondingly. If tracking is\n",
        "                    performed with a single particle described as a python list\n",
        "                    then 'lost_plane' returns a single string\n",
        "\n"
       ]
      }
     ],
     "prompt_number": 149
    }
   ],
   "metadata": {}
  }
 ]
}